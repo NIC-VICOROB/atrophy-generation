{
 "cells": [
  {
   "cell_type": "markdown",
   "metadata": {},
   "source": [
    "# Longitudinal atrophy generation model training"
   ]
  },
  {
   "cell_type": "markdown",
   "metadata": {},
   "source": [
    "## Load libraries and utilities"
   ]
  },
  {
   "cell_type": "code",
   "execution_count": null,
   "metadata": {},
   "outputs": [],
   "source": [
    "import os\n",
    "import numpy as np\n",
    "import nibabel as nib\n",
    "\n",
    "from utils.roi_measures import mad, ssim\n",
    "from utils.extraction import extract_patches\n",
    "from utils.reconstruction import perform_voting\n",
    "from utils.match_intensities import match_intensities\n",
    "\n",
    "from wnet import generate_wnet_model"
   ]
  },
  {
   "cell_type": "markdown",
   "metadata": {},
   "source": [
    "## Define cascaded U-Net parameters"
   ]
  },
  {
   "cell_type": "code",
   "execution_count": null,
   "metadata": {},
   "outputs": [],
   "source": [
    "wparams = {}\n",
    "wparams['input_channels'] = 2\n",
    "wparams['output_channels'] = 1\n",
    "wparams['latent_channels'] = 16\n",
    "wparams['scale'] = [0.5, 0.5]\n",
    "wparams['use_combined_loss'] = True\n",
    "wparams['patch_shape'] = (32, 32, 32)\n",
    "wparams['loss_weights'] = [1, 1, 1, 1.5, 3]\n",
    "\n",
    "model = generate_wnet_model(wparams)\n",
    "\n",
    "model.summary()"
   ]
  },
  {
   "cell_type": "markdown",
   "metadata": {},
   "source": [
    "## Loading training data\n",
    "In this particular example, we use data from OASIS2 which has been registered to MNI and skull stripped previously. The folders used in this example are:\n",
    "- db_location: file name pattern of input volumes\n",
    "- db_seg_location: file name pattern of segmentation masks\n",
    "- db_prob_location: file name pattern of segmentation probability maps"
   ]
  },
  {
   "cell_type": "code",
   "execution_count": null,
   "metadata": {
    "scrolled": true
   },
   "outputs": [],
   "source": [
    "fname_pattern = 'OAS2_{0:04}_MR{1}'\n",
    "db_location = 'datasets/OASIS/REG_MNI/{}Warped.nii.gz'\n",
    "db_seg_location = 'datasets/OASIS/REG_MNI/{}Warped_seg.nii.gz'\n",
    "db_prob_location = 'datasets/OASIS/REG_MNI/{}Warped_pve_{}.nii.gz'\n",
    "\n",
    "# Step to extract patches\n",
    "step = (16, 16, 16)\n",
    "\n",
    "threshold = np.int32(0.30 * np.prod(wparams['patch_shape'][:]))\n",
    "in_train_1 = np.empty((0, 1, ) + wparams['patch_shape'])\n",
    "in_train_2 = np.empty((0, 1, ) + wparams['patch_shape'])\n",
    "in_train_3 = np.empty((0, 1, ) + wparams['patch_shape'])\n",
    "in_train_4 = np.empty((0, 1, ) + wparams['patch_shape'])\n",
    "out_train = np.empty((0, 1, ) + wparams['patch_shape'])\n",
    "for i in range(1, 100) :\n",
    "    for j in range(1, 5) :\n",
    "        for k in range(j+1, 5) :\n",
    "            ref_filename = db_location.format(fname_pattern.format(i, j))\n",
    "            ref_seg_filename = db_seg_location.format(fname_pattern.format(i, j))\n",
    "            mov_filename = db_location.format(fname_pattern.format(i, k))\n",
    "            mov_seg_filename = db_seg_location.format(fname_pattern.format(i, k))\n",
    "            \n",
    "            if not (os.path.exists(ref_filename) and os.path.exists(mov_filename)) :\n",
    "                continue\n",
    "            \n",
    "            ref_seg_init = nib.load(ref_seg_filename).get_data() == 1\n",
    "            mov_seg_init = nib.load(mov_seg_filename).get_data() == 1\n",
    "            \n",
    "            ref_volume = nib.load(ref_filename).get_data()\n",
    "            ref_volume = ref_volume.reshape((1, ) + ref_volume.shape)\n",
    "            \n",
    "            mask_init = ref_volume != 0\n",
    "            mask_patches = extract_patches(mask_init, (1, ) + wparams['patch_shape'], (1, ) + step)\n",
    "            useful_patches = np.sum(mask_patches, axis=(1, 2, 3, 4)) > threshold\n",
    "            del mask_patches\n",
    "            \n",
    "            mov_prob_init_1 = nib.load(db_prob_location.format(fname_pattern.format(i, k), 0)).get_data()\n",
    "            mov_prob_init_2 = nib.load(db_prob_location.format(fname_pattern.format(i, k), 1)).get_data()\n",
    "            mov_prob_init_3 = nib.load(db_prob_location.format(fname_pattern.format(i, k), 2)).get_data()\n",
    "            \n",
    "            mov_prob_init_1 = mov_prob_init_1.reshape((1, ) + mov_prob_init_1.shape)\n",
    "            mov_prob_init_2 = mov_prob_init_2.reshape((1, ) + mov_prob_init_2.shape)\n",
    "            mov_prob_init_3 = mov_prob_init_3.reshape((1, ) + mov_prob_init_3.shape)\n",
    "            \n",
    "            vol_patches = extract_patches(ref_volume, (1, ) + wparams['patch_shape'], (1, ) + step)\n",
    "            vol_patches = vol_patches[useful_patches].reshape((-1, 1, ) + wparams['patch_shape'])\n",
    "            \n",
    "            prob_1_patches = extract_patches(mov_prob_init_1, (1, ) + wparams['patch_shape'], (1, ) + step)\n",
    "            prob_1_patches = prob_1_patches[useful_patches].reshape((-1, 1, ) + wparams['patch_shape'])\n",
    "            \n",
    "            prob_2_patches = extract_patches(mov_prob_init_2, (1, ) + wparams['patch_shape'], (1, ) + step)\n",
    "            prob_2_patches = prob_2_patches[useful_patches].reshape((-1, 1, ) + wparams['patch_shape'])\n",
    "            \n",
    "            prob_3_patches = extract_patches(mov_prob_init_3, (1, ) + wparams['patch_shape'], (1, ) + step)\n",
    "            prob_3_patches = prob_3_patches[useful_patches].reshape((-1, 1, ) + wparams['patch_shape'])\n",
    "            \n",
    "            in_train_1 = np.vstack((vol_patches, in_train_1)).astype('float32')\n",
    "            in_train_2 = np.vstack((prob_1_patches, in_train_2)).astype('float32')\n",
    "            in_train_3 = np.vstack((prob_2_patches, in_train_3)).astype('float32')\n",
    "            in_train_4 = np.vstack((prob_3_patches, in_train_4)).astype('float32')\n",
    "            \n",
    "            del vol_patches, prob_1_patches, prob_2_patches, prob_3_patches\n",
    "\n",
    "            mov_volume = nib.load(mov_filename).get_data()\n",
    "            mov_volume = mov_volume.reshape((1, ) + mov_volume.shape)\n",
    "            mov_patches = extract_patches(mov_volume, (1, ) + wparams['patch_shape'], (1, ) + step)\n",
    "            mov_patches = mov_patches[useful_patches].reshape((-1, 1, ) + wparams['patch_shape'])\n",
    "            \n",
    "            out_train = np.vstack((mov_patches, out_train)).astype('float32')\n",
    "            del mov_patches"
   ]
  },
  {
   "cell_type": "markdown",
   "metadata": {},
   "source": [
    "## Training step"
   ]
  },
  {
   "cell_type": "code",
   "execution_count": null,
   "metadata": {
    "scrolled": true
   },
   "outputs": [],
   "source": [
    "from keras.callbacks import EarlyStopping, ModelCheckpoint\n",
    "\n",
    "patience = 10\n",
    "\n",
    "stopper = EarlyStopping(patience=patience)\n",
    "checkpointer = ModelCheckpoint('models/model.h5', save_best_only=True, save_weights_only=True)\n",
    "\n",
    "N = len(in_train_1)\n",
    "model.fit(\n",
    "    [in_train_1, in_train_2, in_train_3, in_train_4],\n",
    "    [np.multiply(out_train, in_train_2 >= 0.8),\n",
    "     np.multiply(out_train, in_train_3 >= 0.8),\n",
    "     np.multiply(out_train, in_train_4 >= 0.8),\n",
    "     out_train,\n",
    "     out_train],\n",
    "    validation_split=0.3, epochs=100, batch_size=32,\n",
    "    callbacks=[checkpointer, stopper])"
   ]
  },
  {
   "cell_type": "markdown",
   "metadata": {},
   "source": [
    "## Load model leading to the lowest validation loss"
   ]
  },
  {
   "cell_type": "code",
   "execution_count": null,
   "metadata": {},
   "outputs": [],
   "source": [
    "model.load_weights('models/ag_mseloss_o2o1_2probs.h5')"
   ]
  },
  {
   "cell_type": "markdown",
   "metadata": {},
   "source": [
    "## Model testing"
   ]
  },
  {
   "cell_type": "code",
   "execution_count": null,
   "metadata": {},
   "outputs": [],
   "source": [
    "path_to_results = 'outputs/'\n",
    "\n",
    "ref_volume_train = 'datasets/OASIS/REG_MNI/OAS2_003_MR1Warped.nii.gz'\n",
    "fname_pattern = 'ADNI_{0:03}_MR{1}'\n",
    "db_location = 'datasets/ADNI/REG_MNI/{}Warped.nii.gz'\n",
    "db_seg_location = 'datasets/ADNI/REG_MNI/{}Warped_seg.nii.gz'\n",
    "db_prob_location = 'datasets/ADNI/REG_MNI/{}Warped_pve_{}.nii.gz'\n",
    "\n",
    "curr_patch_shape = (32, 32, 32)\n",
    "step = (8, 8, 8)\n",
    "for i in range(1, 200) :\n",
    "    for j in range(1, 5) :\n",
    "        ref_filename = db_ref_location.format(fname_pattern.format(i, j))\n",
    "        \n",
    "        if not os.path.exists(ref_filename):\n",
    "            continue\n",
    "            \n",
    "        ref_volume = nib.load(ref_filename).get_data()\n",
    "        ref_volume = ref_volume.reshape((1, ) + ref_volume.shape)\n",
    "        vol_patches = extract_patches(ref_volume, (1, ) + wparams['patch_shape'], (1, ) + step)\n",
    "        \n",
    "        for k in range(j+1, 5) :\n",
    "            mov_filename = db_location.format(fname_pattern.format(i, j), fname_pattern.format(i, k))\n",
    "            mov_prob_filename = db_seg_location.format(fname_pattern.format(i, j), fname_pattern.format(i, k), 0)\n",
    "\n",
    "            if not os.path.exists(mov_filename):\n",
    "                continue\n",
    "\n",
    "            mov_prob_init_1 = nib.load(db_prob_location.format(fname_pattern.format(i, k), 0)).get_data()\n",
    "            mov_prob_init_2 = nib.load(db_prob_location.format(fname_pattern.format(i, k), 1)).get_data()\n",
    "            mov_prob_init_3 = nib.load(db_prob_location.format(fname_pattern.format(i, k), 2)).get_data()\n",
    "            \n",
    "            mov_prob_init_1 = mov_prob_init_1.reshape((1, ) + mov_prob_init_1.shape)\n",
    "            mov_prob_init_2 = mov_prob_init_2.reshape((1, ) + mov_prob_init_2.shape)\n",
    "            mov_prob_init_3 = mov_prob_init_3.reshape((1, ) + mov_prob_init_3.shape)\n",
    "\n",
    "            prob_1_patches = extract_patches(mov_prob_init_1, (1, ) + wparams['patch_shape'], (1, ) + step)\n",
    "            prob_2_patches = extract_patches(mov_prob_init_2, (1, ) + wparams['patch_shape'], (1, ) + step)\n",
    "            prob_3_patches = extract_patches(mov_prob_init_3, (1, ) + wparams['patch_shape'], (1, ) + step)\n",
    "\n",
    "            pred = model.predict(\n",
    "                [vol_patches, prob_1_patches, prob_2_patches, prob_3_patches], verbose=1, batch_size=64)[4]\n",
    "            pred = pred.reshape((-1, ) + curr_patch_shape)\n",
    "\n",
    "            volume = perform_voting(pred, curr_patch_shape, ref_volume.shape[1:], step)\n",
    "\n",
    "            volume_data = nib.load(mov_filename)\n",
    "\n",
    "            nib.save(nib.Nifti1Image(volume, volume_data.affine),\n",
    "                     '{}/{}_{}_to_{}.nii.gz'.format(path_to_results, i, j, k)\n",
    "\n",
    "            res = sitk.ReadImage('{}/{}_{}_to_{}.nii.gz'.format(path_to_results, i, j, k))\n",
    "\n",
    "            caster = sitk.CastImageFilter()\n",
    "            caster.SetOutputPixelType(res.GetPixelID())\n",
    "\n",
    "            orig = caster.Execute(sitk.ReadImage(mov_filename))\n",
    "            seg = caster.Execute(sitk.ReadImage(mov_prob_filename))\n",
    "\n",
    "            enhanced_vol = match_intensities(orig, res)\n",
    "\n",
    "            sitk.WriteImage(\n",
    "                enhanced_vol,\n",
    "                '{}/{}_{}_to_{}_cor.nii.gz'.format(path_to_results, i, j, k)"
   ]
  }
 ],
 "metadata": {
  "kernelspec": {
   "display_name": "Python 3",
   "language": "python",
   "name": "python3"
  },
  "language_info": {
   "codemirror_mode": {
    "name": "ipython",
    "version": 3
   },
   "file_extension": ".py",
   "mimetype": "text/x-python",
   "name": "python",
   "nbconvert_exporter": "python",
   "pygments_lexer": "ipython3",
   "version": "3.6.9"
  }
 },
 "nbformat": 4,
 "nbformat_minor": 2
}
